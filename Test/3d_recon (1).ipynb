{
 "cells": [
  {
   "cell_type": "code",
   "execution_count": null,
   "metadata": {},
   "outputs": [],
   "source": [
    "import os\n",
    "import numpy as np\n",
    "from PIL import Image\n",
    "import astra\n",
    "import matplotlib.pyplot as plt\n",
    "\n",
    "tiff_dir = './projections/'\n",
    "tiff_files = sorted([f for f in os.listdir(tiff_dir) if f.endswith('.tif')])\n",
    "projections = np.stack([np.array(Image.open(os.path.join(tiff_dir, f)), dtype=np.float32) for f in tiff_files])\n",
    "\n",
    "num_projections, num_rows, num_cols = projections.shape\n",
    "angles = np.linspace(0, np.pi, num_projections, endpoint=False)\n"
   ]
  },
  {
   "cell_type": "code",
   "execution_count": null,
   "metadata": {},
   "outputs": [],
   "source": [
    "reconstructed_slices = []\n",
    "\n",
    "for i in range(num_rows):\n",
    "    # Get sinogram for slice i\n",
    "    sinogram = projections[:, i, :]\n",
    "\n",
    "    # Define geometry for this slice\n",
    "    proj_geom = astra.create_proj_geom('parallel', 1.0, num_cols, angles)\n",
    "    vol_geom = astra.create_vol_geom(num_cols, num_cols)\n",
    "\n",
    "    # Create data objects\n",
    "    sinogram_id = astra.data2d.create('-sino', proj_geom, sinogram)\n",
    "    rec_id = astra.data2d.create('-vol', vol_geom)\n",
    "\n",
    "    # Configure FBP algorithm\n",
    "    cfg = astra.astra_dict('FBP_CUDA')\n",
    "    cfg['ProjectionDataId'] = sinogram_id\n",
    "    cfg['ReconstructionDataId'] = rec_id\n",
    "\n",
    "    alg_id = astra.algorithm.create(cfg)\n",
    "    astra.algorithm.run(alg_id)\n",
    "\n",
    "    # Get reconstructed slice\n",
    "    rec = astra.data2d.get(rec_id)\n",
    "    reconstructed_slices.append(rec)\n",
    "\n",
    "    # Clean up\n",
    "    astra.algorithm.delete(alg_id)\n",
    "    astra.data2d.delete([sinogram_id, rec_id])\n",
    "\n",
    "# Convert to 3D volume\n",
    "reconstructed_volume = np.stack(reconstructed_slices, axis=0)\n"
   ]
  },
  {
   "cell_type": "code",
   "execution_count": 5,
   "metadata": {},
   "outputs": [
    {
     "name": "stdout",
     "output_type": "stream",
     "text": [
      "Loading DICOM projection images...\n"
     ]
    },
    {
     "name": "stderr",
     "output_type": "stream",
     "text": [
      "100%|██████████| 132/132 [00:01<00:00, 113.41it/s]\n"
     ]
    },
    {
     "name": "stdout",
     "output_type": "stream",
     "text": [
      "Loaded 132 projections, each with shape 1106 x 857\n",
      "Reconstructing slices with FBP (CPU)...\n"
     ]
    },
    {
     "name": "stderr",
     "output_type": "stream",
     "text": [
      "  0%|          | 0/1106 [00:00<?, ?it/s]\n"
     ]
    },
    {
     "ename": "AstraError",
     "evalue": "Unable to initialize algorithm: Configuration error in Reconstruction2D. No projector specified.",
     "output_type": "error",
     "traceback": [
      "\u001b[1;31m---------------------------------------------------------------------------\u001b[0m",
      "\u001b[1;31mAstraError\u001b[0m                                Traceback (most recent call last)",
      "Cell \u001b[1;32mIn[5], line 47\u001b[0m\n\u001b[0;32m     44\u001b[0m cfg[\u001b[38;5;124m'\u001b[39m\u001b[38;5;124mReconstructionDataId\u001b[39m\u001b[38;5;124m'\u001b[39m] \u001b[38;5;241m=\u001b[39m rec_id\n\u001b[0;32m     46\u001b[0m \u001b[38;5;66;03m# Run the algorithm\u001b[39;00m\n\u001b[1;32m---> 47\u001b[0m alg_id \u001b[38;5;241m=\u001b[39m astra\u001b[38;5;241m.\u001b[39malgorithm\u001b[38;5;241m.\u001b[39mcreate(cfg)\n\u001b[0;32m     48\u001b[0m astra\u001b[38;5;241m.\u001b[39malgorithm\u001b[38;5;241m.\u001b[39mrun(alg_id)\n\u001b[0;32m     50\u001b[0m \u001b[38;5;66;03m# Retrieve the reconstructed slice\u001b[39;00m\n",
      "File \u001b[1;32mc:\\Users\\fedhila\\AppData\\Local\\anaconda3\\Lib\\site-packages\\astra\\algorithm.py:36\u001b[0m, in \u001b[0;36mcreate\u001b[1;34m(config)\u001b[0m\n\u001b[0;32m     28\u001b[0m \u001b[38;5;28;01mdef\u001b[39;00m \u001b[38;5;21mcreate\u001b[39m(config):\n\u001b[0;32m     29\u001b[0m \u001b[38;5;250m    \u001b[39m\u001b[38;5;124;03m\"\"\"Create algorithm object.\u001b[39;00m\n\u001b[0;32m     30\u001b[0m \u001b[38;5;124;03m    \u001b[39;00m\n\u001b[0;32m     31\u001b[0m \u001b[38;5;124;03m    :param config: Algorithm options.\u001b[39;00m\n\u001b[1;32m   (...)\u001b[0m\n\u001b[0;32m     34\u001b[0m \u001b[38;5;124;03m    \u001b[39;00m\n\u001b[0;32m     35\u001b[0m \u001b[38;5;124;03m    \"\"\"\u001b[39;00m\n\u001b[1;32m---> 36\u001b[0m     \u001b[38;5;28;01mreturn\u001b[39;00m a\u001b[38;5;241m.\u001b[39mcreate(config)\n",
      "File \u001b[1;32mastra\\\\algorithm_c.pyx:70\u001b[0m, in \u001b[0;36mastra.algorithm_c.create\u001b[1;34m()\u001b[0m\n",
      "\u001b[1;31mAstraError\u001b[0m: Unable to initialize algorithm: Configuration error in Reconstruction2D. No projector specified."
     ]
    }
   ],
   "source": [
    "import os\n",
    "import numpy as np\n",
    "import pydicom\n",
    "import astra\n",
    "from tqdm import tqdm\n",
    "\n",
    "# Directory containing DICOM projection images\n",
    "dcm_dir = 'C:/Users/fedhila/Desktop/2D Scans/scan_03/DICOM'\n",
    "dcm_files = sorted([os.path.join(dcm_dir, f) for f in os.listdir(dcm_dir) if f.endswith('.dcm')])\n",
    "\n",
    "# Load all DICOM projection images into a 3D NumPy array\n",
    "print(\"Loading DICOM projection images...\")\n",
    "projections = np.stack([pydicom.dcmread(f).pixel_array.astype(np.float32) for f in tqdm(dcm_files)], axis=0)\n",
    "\n",
    "# Get number of projections, rows, and cols\n",
    "num_projections, num_rows, num_cols = projections.shape\n",
    "print(f\"Loaded {num_projections} projections, each with shape {num_rows} x {num_cols}\")\n",
    "\n",
    "# Define angles — assuming evenly spaced projections over 180° (π radians)\n",
    "angles = np.linspace(0, np.pi, num_projections, endpoint=False)\n",
    "\n",
    "# Optional: Check if CUDA is available (will be False for you)\n",
    "\n",
    "\n",
    "# Reconstruct each slice\n",
    "reconstructed_slices = []\n",
    "\n",
    "print(\"Reconstructing slices with FBP (CPU)...\")\n",
    "for i in tqdm(range(num_rows)):\n",
    "    # Extract the sinogram for slice i\n",
    "    sinogram = projections[:, i, :]\n",
    "\n",
    "    # Define geometry for this slice\n",
    "    proj_geom = astra.create_proj_geom('parallel', 1.0, num_cols, angles)\n",
    "    vol_geom = astra.create_vol_geom(num_cols, num_cols)\n",
    "\n",
    "    # Create 2D data objects for CPU\n",
    "    sinogram_id = astra.data2d.create('-sino', proj_geom, sinogram)\n",
    "    rec_id = astra.data2d.create('-vol', vol_geom)\n",
    "\n",
    "    # Configure the FBP algorithm for CPU\n",
    "    cfg = astra.astra_dict('SIRT')\n",
    "    cfg['ProjectionDataId'] = sinogram_id\n",
    "    cfg['ReconstructionDataId'] = rec_id\n",
    "\n",
    "    # Run the algorithm\n",
    "    alg_id = astra.algorithm.create(cfg)\n",
    "    astra.algorithm.run(alg_id)\n",
    "\n",
    "    # Retrieve the reconstructed slice\n",
    "    rec = astra.data2d.get(rec_id)\n",
    "    reconstructed_slices.append(rec)\n",
    "\n",
    "    # Clean up memory\n",
    "    astra.algorithm.delete(alg_id)\n",
    "    astra.data2d.delete([sinogram_id, rec_id])\n",
    "\n",
    "# Convert list of 2D slices to 3D volume\n",
    "reconstructed_volume = np.stack(reconstructed_slices, axis=0)\n",
    "\n",
    "print(f\"Reconstruction done. Volume shape: {reconstructed_volume.shape}\")"
   ]
  },
  {
   "cell_type": "code",
   "execution_count": 4,
   "metadata": {},
   "outputs": [
    {
     "name": "stdout",
     "output_type": "stream",
     "text": [
      "Collecting pydicom\n",
      "  Downloading pydicom-3.0.1-py3-none-any.whl.metadata (9.4 kB)\n",
      "Downloading pydicom-3.0.1-py3-none-any.whl (2.4 MB)\n",
      "   ---------------------------------------- 0.0/2.4 MB ? eta -:--:--\n",
      "   ----------------------------------- ---- 2.1/2.4 MB 11.8 MB/s eta 0:00:01\n",
      "   ---------------------------------------- 2.4/2.4 MB 9.7 MB/s eta 0:00:00\n",
      "Installing collected packages: pydicom\n",
      "Successfully installed pydicom-3.0.1\n",
      "Note: you may need to restart the kernel to use updated packages.\n"
     ]
    }
   ],
   "source": [
    "pip install pydicom"
   ]
  }
 ],
 "metadata": {
  "kernelspec": {
   "display_name": "base",
   "language": "python",
   "name": "python3"
  },
  "language_info": {
   "codemirror_mode": {
    "name": "ipython",
    "version": 3
   },
   "file_extension": ".py",
   "mimetype": "text/x-python",
   "name": "python",
   "nbconvert_exporter": "python",
   "pygments_lexer": "ipython3",
   "version": "3.12.3"
  }
 },
 "nbformat": 4,
 "nbformat_minor": 2
}
