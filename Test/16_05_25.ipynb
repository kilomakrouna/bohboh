{
 "cells": [
  {
   "cell_type": "markdown",
   "metadata": {},
   "source": [
    "# Resize images"
   ]
  },
  {
   "cell_type": "code",
   "execution_count": null,
   "metadata": {},
   "outputs": [],
   "source": [
    "!pip install pillow"
   ]
  },
  {
   "cell_type": "code",
   "execution_count": null,
   "metadata": {},
   "outputs": [],
   "source": [
    "from PIL import Image\n",
    "import os\n",
    "\n",
    "def resize_convert_and_save(path, new_path, width, height):\n",
    "    # Zielordner 'resized' anlegen\n",
    "    resized_folder = os.path.join(new_path, 'resized')\n",
    "    os.makedirs(resized_folder, exist_ok=True)\n",
    "\n",
    "    # Unterstützte Bildformate\n",
    "    valid_exts = ('.tiff', '.tif', '.bmp', '.BMP')\n",
    "    image_files = sorted([f for f in os.listdir(path) if f.lower().endswith(valid_exts)])\n",
    "\n",
    "    for filename in image_files:\n",
    "        input_file = os.path.join(path, filename)\n",
    "\n",
    "        # Bild öffnen\n",
    "        with Image.open(input_file) as img:\n",
    "            # Größe anpassen\n",
    "            resized_img = img.resize((width, height))\n",
    "\n",
    "            # In Graustufenmodus (L) konvertieren\n",
    "            gray_img = resized_img.convert('L')\n",
    "\n",
    "            # Neuen Dateinamen mit .tif-Endung erzeugen\n",
    "            base_name = os.path.splitext(filename)[0]\n",
    "            output_file = os.path.join(resized_folder, base_name + '.tif')\n",
    "\n",
    "            # Als TIFF speichern\n",
    "            gray_img.save(output_file, format='TIFF')\n"
   ]
  },
  {
   "cell_type": "code",
   "execution_count": null,
   "metadata": {},
   "outputs": [],
   "source": [
    "resize_convert_and_save(r'C:\\Users\\fedhila\\Desktop\\Image',r'C:\\Users\\fedhila\\Desktop\\Image\\resized',1024,1024)"
   ]
  },
  {
   "cell_type": "markdown",
   "metadata": {},
   "source": [
    "# Reconstruct"
   ]
  },
  {
   "cell_type": "code",
   "execution_count": null,
   "metadata": {},
   "outputs": [],
   "source": [
    "from reconstruction import CTReconstructor\n",
    "import numpy as np"
   ]
  },
  {
   "cell_type": "code",
   "execution_count": null,
   "metadata": {},
   "outputs": [],
   "source": [
    "# Create reconstructor\n",
    "reconstructor = CTReconstructor()\n",
    "\n",
    "# Set the path to your DICOM files\n",
    "dcm_dir = r'C:\\Users\\fedhila\\Desktop\\Image'\n",
    "\n",
    "\n",
    "# List available methods\n",
    "reconstructor.list_available_methods()\n",
    "\n",
    "# Set specific method\n",
    "reconstructor.set_reconstruction_method('FBP')  # Preferred over SIRT\n",
    "reconstructor.set_reconstruction_method('FBP_CUDA')  # If CUDA available\n",
    "\n",
    "# Check current method\n",
    "print(reconstructor.get_current_method())\n",
    "\n",
    "# Analyze your data's angular coverage\n",
    "reconstructor.print_angular_analysis()\n",
    "\n",
    "# Fix limited coverage\n",
    "# reconstructor.use_360_degree_scan()  # Switch to full 360-degree coverage\n",
    "\n",
    "# Check all current settings\n",
    "reconstructor.print_current_parameters()\n",
    "\n",
    "# Adjust specific parameters\n",
    "# reconstructor.set_pixel_size(0.5)  # Set pixel size in mm\n",
    "# reconstructor.set_angular_range(0, 2*np.pi, 360)  # Custom angular range"
   ]
  },
  {
   "cell_type": "code",
   "execution_count": null,
   "metadata": {},
   "outputs": [],
   "source": [
    "\n",
    "# Perform reconstruction\n",
    "volume = reconstructor.reconstruct(dcm_dir=dcm_dir, output_path='reconstructed_volume.npy')\n"
   ]
  },
  {
   "cell_type": "code",
   "execution_count": null,
   "metadata": {},
   "outputs": [],
   "source": [
    "\n",
    "# Visualize middle slice\n",
    "reconstructor.visualize()"
   ]
  }
 ],
 "metadata": {
  "language_info": {
   "name": "python"
  }
 },
 "nbformat": 4,
 "nbformat_minor": 2
}
