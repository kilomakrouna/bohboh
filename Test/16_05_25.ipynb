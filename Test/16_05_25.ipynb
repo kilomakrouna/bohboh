{
 "cells": [
  {
   "cell_type": "code",
   "execution_count": null,
   "metadata": {},
   "outputs": [],
   "source": [
    "from .reconstruction import CTReconstructor"
   ]
  },
  {
   "cell_type": "code",
   "execution_count": null,
   "metadata": {},
   "outputs": [],
   "source": [
    "# Create reconstructor\n",
    "reconstructor = CTReconstructor(config_path='Test/CT4000.json')\n",
    "\n",
    "# Set the path to your DICOM files\n",
    "dcm_dir = 'C:/Users/fedhila/Desktop/2D Scans/scan_03/DICOM'\n",
    "\n",
    "# Perform reconstruction\n",
    "volume = reconstructor.reconstruct(dcm_dir=dcm_dir, output_path='reconstructed_volume.npy')\n",
    "\n",
    "# Visualize middle slice\n",
    "# reconstructor.visualize()"
   ]
  }
 ],
 "metadata": {
  "language_info": {
   "name": "python"
  }
 },
 "nbformat": 4,
 "nbformat_minor": 2
}
