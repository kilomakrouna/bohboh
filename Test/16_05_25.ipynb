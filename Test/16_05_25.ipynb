{
 "cells": [
  {
   "cell_type": "code",
   "execution_count": null,
   "metadata": {},
   "outputs": [],
   "source": [
    "!conda activate astra-env\n",
    "\n",
    "!pip install numpy pydicom tqdm matplotlib tifffile\n",
    "\n",
    "# Install ASTRA Toolbox from conda-forge (CPU version)\n",
    "!conda install -c conda-forge astra-toolbox\n",
    "\n",
    "# If you want CUDA support (and have a compatible GPU), install the CUDA-enabled version:\n",
    "# (This will automatically install the correct CUDA toolkit version)\n",
    "!conda install -c astra-toolbox astra-toolbox-cuda"
   ]
  },
  {
   "cell_type": "code",
   "execution_count": null,
   "metadata": {},
   "outputs": [],
   "source": [
    "from reconstruction import CTReconstructor"
   ]
  },
  {
   "cell_type": "code",
   "execution_count": null,
   "metadata": {},
   "outputs": [],
   "source": [
    "# Create reconstructor\n",
    "reconstructor = CTReconstructor(config_path= 'C:/Users/fedhila\\Desktop/Image/CT4000.json', path_to_ini= 'C:/Users/fedhila/Desktop/Image/ScanAllParam.ini')\n",
    "\n",
    "# Set the path to your DICOM files\n",
    "dcm_dir = r'C:\\Users\\fedhila\\Desktop\\Image'\n",
    "\n",
    "# Perform reconstruction\n",
    "volume = reconstructor.reconstruct(dcm_dir=dcm_dir, output_path='reconstructed_volume.npy')\n",
    "\n",
    "# Visualize middle slice\n",
    "# reconstructor.visualize()"
   ]
  }
 ],
 "metadata": {
  "language_info": {
   "name": "python"
  }
 },
 "nbformat": 4,
 "nbformat_minor": 2
}
