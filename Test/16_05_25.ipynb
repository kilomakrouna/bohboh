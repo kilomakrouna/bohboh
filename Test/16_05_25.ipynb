{
 "cells": [
  {
   "cell_type": "markdown",
   "metadata": {},
   "source": [
    "# Resize images"
   ]
  },
  {
   "cell_type": "code",
   "execution_count": null,
   "metadata": {},
   "outputs": [],
   "source": [
    "!pip install pillow"
   ]
  },
  {
   "cell_type": "code",
   "execution_count": null,
   "metadata": {},
   "outputs": [],
   "source": [
    "from PIL import Image\n",
    "import os\n",
    "def resize_and_save(path,new_path,width,height):\n",
    "    os.makedirs(new_path, exist_ok=True)\n",
    "    tiff_files = sorted([(os.path.join(path, f), os.path.join(new_path, f)) for f in os.listdir(path) if f.lower().endswith(('.tiff', '.tif', '.bmp', '.BMP'))])\n",
    "    new_path = os.path.join(new_path, 'resized')\n",
    "    for file, new_file in tiff_files:\n",
    "        img = Image.open(file)\n",
    "        new_size = (width, height)\n",
    "        resized = img.resize(new_size)\n",
    "        resized.save(new_file)"
   ]
  },
  {
   "cell_type": "code",
   "execution_count": null,
   "metadata": {},
   "outputs": [],
   "source": [
    "resize_and_save(r'C:\\Users\\fedhila\\Desktop\\Image',r'C:\\Users\\fedhila\\Desktop\\Image\\resized',1024,1024)"
   ]
  },
  {
   "cell_type": "markdown",
   "metadata": {},
   "source": [
    "# Reconstruct"
   ]
  },
  {
   "cell_type": "code",
   "execution_count": null,
   "metadata": {},
   "outputs": [],
   "source": [
    "from reconstruction import CTReconstructor"
   ]
  },
  {
   "cell_type": "code",
   "execution_count": null,
   "metadata": {},
   "outputs": [],
   "source": [
    "# Create reconstructor\n",
    "reconstructor = CTReconstructor(config_path= 'C:/Users/fedhila\\Desktop/Image/CT4000.json')\n",
    "\n",
    "# Set the path to your DICOM files\n",
    "dcm_dir = r'C:\\Users\\fedhila\\Desktop\\Image'\n",
    "\n",
    "# Perform reconstruction\n",
    "volume = reconstructor.reconstruct(dcm_dir=dcm_dir, output_path='reconstructed_volume.npy')\n",
    "\n",
    "# Visualize middle slice\n"
   ]
  },
  {
   "cell_type": "code",
   "execution_count": null,
   "metadata": {},
   "outputs": [],
   "source": [
    "reconstructor.visualize()"
   ]
  }
 ],
 "metadata": {
  "language_info": {
   "name": "python"
  }
 },
 "nbformat": 4,
 "nbformat_minor": 2
}
