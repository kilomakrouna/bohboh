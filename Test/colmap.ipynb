{
 "cells": [
  {
   "cell_type": "code",
   "execution_count": null,
   "metadata": {},
   "outputs": [],
   "source": [
    "pip install -r requirements_colmap.txt"
   ]
  },
  {
   "cell_type": "code",
   "execution_count": null,
   "metadata": {},
   "outputs": [],
   "source": [
    "import os\n",
    "import sys\n",
    "from pathlib import Path\n",
    "from colmap_3d_reconstruction import COLMAP3DReconstructor"
   ]
  },
  {
   "cell_type": "code",
   "execution_count": null,
   "metadata": {},
   "outputs": [],
   "source": [
    "# Simple COLMAP 3D Reconstruction\n",
    "from colmap_3d_reconstruction import COLMAP3DReconstructor\n",
    "\n",
    "# Initialize and run reconstruction\n",
    "reconstructor = COLMAP3DReconstructor(\"workspace\")\n",
    "reconstruction = reconstructor.run_full_reconstruction(\"your_tiff_images_folder\")\n",
    "\n",
    "# Visualize results\n",
    "reconstructor.visualize_sparse_3d()\n",
    "reconstructor.visualize_camera_poses()\n",
    "reconstructor.export_point_cloud(\"result.ply\")\n",
    "\n",
    "print(\"Done! Check result.ply for your 3D model\")"
   ]
  }
 ],
 "metadata": {
  "language_info": {
   "name": "python"
  }
 },
 "nbformat": 4,
 "nbformat_minor": 2
}
