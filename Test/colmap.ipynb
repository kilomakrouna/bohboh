{
 "cells": [
  {
   "cell_type": "code",
   "execution_count": null,
   "metadata": {},
   "outputs": [],
   "source": [
    "pip install -r requirements_colmap.txt"
   ]
  },
  {
   "cell_type": "code",
   "execution_count": null,
   "metadata": {},
   "outputs": [],
   "source": [
    "import os\n",
    "import sys\n",
    "from pathlib import Path\n",
    "from colmap_3d_reconstruction import COLMAP3DReconstructor"
   ]
  },
  {
   "cell_type": "code",
   "execution_count": null,
   "metadata": {},
   "outputs": [],
   "source": [
    "# Simple COLMAP 3D Reconstruction (Fixed Version)\n",
    "from colmap_3d_reconstruction import COLMAP3DReconstructor\n",
    "\n",
    "# Initialize and run reconstruction \n",
    "reconstructor = COLMAP3DReconstructor(\"workspace\")\n",
    "reconstruction = reconstructor.run_full_reconstruction(r\"C:\\Users\\fedhila\\Desktop\\Prüfkörper Final\\resized\\resized\")\n",
    "\n",
    "# Only visualize if reconstruction succeeded\n",
    "if reconstruction is not None:\n",
    "    reconstructor.visualize_sparse_3d()\n",
    "    reconstructor.visualize_camera_poses() \n",
    "    reconstructor.export_point_cloud(\"result.ply\")\n",
    "    print(\"Done! Check result.ply for your 3D model\")\n",
    "else:\n",
    "    print(\"Reconstruction failed - check the image issues above\")"
   ]
  }
 ],
 "metadata": {
  "language_info": {
   "name": "python"
  }
 },
 "nbformat": 4,
 "nbformat_minor": 2
}
