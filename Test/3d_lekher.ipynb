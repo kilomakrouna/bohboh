{
 "cells": [
  {
   "cell_type": "code",
   "execution_count": null,
   "metadata": {},
   "outputs": [],
   "source": [
    "from visualization_3d import visualize_npy\n",
    "\n",
    "# Basic usage\n",
    "# visualize_npy('./reconstructed_volume.npy')\n",
    "\n",
    "# # With custom settings\n",
    "visualize_npy(\n",
    "    './reconstructed_volume.npy',\n",
    "    threshold=0.3,             # Initial threshold\n",
    "    output_dir='my_visualizations',  # Where to save screenshots\n",
    "    mode='3d'                  # 3D mode (alternative: 'slices')\n",
    ")\n",
    "\n",
    "# To view orthogonal slices instead of 3D\n",
    "# visualize_npy('reconstructed_volume.npy', mode='slices')"
   ]
  },
  {
   "cell_type": "markdown",
   "metadata": {},
   "source": [
    "# 2"
   ]
  },
  {
   "cell_type": "code",
   "execution_count": null,
   "metadata": {},
   "outputs": [],
   "source": [
    "from Test.mechanical_visualization import visualize_from_file\n",
    "\n",
    "# Visualize using the default surface rendering (best for mechanical parts)\n",
    "visualize_from_file('./reconstructed_volume.npy', json_path='Ahmed/CT4000.json')\n",
    "\n",
    "# Or run it from the command line\n",
    "# python Test/mechanical_visualization.py reconstructed_volume.npy --json Test/CT4000.json"
   ]
  },
  {
   "cell_type": "markdown",
   "metadata": {},
   "source": [
    "# 3"
   ]
  },
  {
   "cell_type": "code",
   "execution_count": null,
   "metadata": {},
   "outputs": [],
   "source": [
    "from new_visualizer import visualize_from_file_agnostic\n",
    "fig = visualize_from_file_agnostic('./reconstructed_volume.npy', json_path=None)"
   ]
  }
 ],
 "metadata": {
  "language_info": {
   "name": "python"
  }
 },
 "nbformat": 4,
 "nbformat_minor": 2
}
