{
 "cells": [
  {
   "cell_type": "code",
   "execution_count": null,
   "metadata": {},
   "outputs": [],
   "source": [
    "from visualization_3d import visualize_npy\n",
    "\n",
    "# Basic usage\n",
    "# visualize_npy('./reconstructed_volume.npy')\n",
    "\n",
    "# # With custom settings\n",
    "visualize_npy(\n",
    "    './reconstructed_volume.npy',\n",
    "    threshold=0.3,             # Initial threshold\n",
    "    output_dir='my_visualizations',  # Where to save screenshots\n",
    "    mode='3d'                  # 3D mode (alternative: 'slices')\n",
    ")\n",
    "\n",
    "# To view orthogonal slices instead of 3D\n",
    "# visualize_npy('reconstructed_volume.npy', mode='slices')"
   ]
  }
 ],
 "metadata": {
  "language_info": {
   "name": "python"
  }
 },
 "nbformat": 4,
 "nbformat_minor": 2
}
