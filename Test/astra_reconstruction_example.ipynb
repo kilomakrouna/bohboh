{
 "cells": [
  {
   "cell_type": "markdown",
   "metadata": {},
   "source": [
    "# 3D Reconstruction with ASTRA Toolkit\n",
    "\n",
    "This notebook demonstrates how to use the `AstraReconstructor` class to perform 3D reconstruction from 2D TIFF images using the ASTRA toolkit. The class supports both SIRT and FBP reconstruction algorithms and provides various visualization capabilities."
   ]
  },
  {
   "cell_type": "markdown",
   "metadata": {},
   "source": [
    "## 1. Import Required Libraries"
   ]
  },
  {
   "cell_type": "code",
   "execution_count": null,
   "metadata": {},
   "outputs": [],
   "source": [
    "import os\n",
    "import numpy as np\n",
    "import matplotlib.pyplot as plt\n",
    "from astra_reconstruction import AstraReconstructor\n",
    "\n",
    "# For displaying plots inline\n",
    "%matplotlib inline"
   ]
  },
  {
   "cell_type": "markdown",
   "metadata": {},
   "source": [
    "## 2. Initialize the Reconstructor\n",
    "\n",
    "First, we'll initialize the `AstraReconstructor` class with the provided configuration files."
   ]
  },
  {
   "cell_type": "code",
   "execution_count": null,
   "metadata": {},
   "outputs": [],
   "source": [
    "# Paths to configuration files\n",
    "config_json = 'CT4000.json'\n",
    "config_ini = 'ScanAllParam.ini'\n",
    "\n",
    "# Initialize the reconstructor\n",
    "reconstructor = AstraReconstructor(config_json=config_json, config_ini=config_ini)\n",
    "\n",
    "# Set volume size for reconstruction (adjust as needed)\n",
    "reconstructor.set_volume_size([256, 256, 256])\n",
    "\n",
    "# Set algorithm parameters\n",
    "reconstructor.set_algorithm_params(algorithm='SIRT', iterations=100)"
   ]
  },
  {
   "cell_type": "markdown",
   "metadata": {},
   "source": [
    "## 3. Load Projection Data\n",
    "\n",
    "Next, we'll load the projection data from TIFF files. Replace `'path/to/tiff/files'` with the actual path to your TIFF files."
   ]
  },
  {
   "cell_type": "code",
   "execution_count": null,
   "metadata": {},
   "outputs": [],
   "source": [
    "# Path to TIFF files\n",
    "tiff_dir = 'path/to/tiff/files'\n",
    "\n",
    "# Load projections\n",
    "try:\n",
    "    projections = reconstructor.load_projections(tiff_dir, pattern='*.tif', normalize=True)\n",
    "    print(f\"Projections loaded with shape: {projections.shape}\")\n",
    "except ValueError as e:\n",
    "    print(f\"Error: {e}\")\n",
    "    print(\"Please update the path to your TIFF files.\")"
   ]
  },
  {
   "cell_type": "markdown",
   "metadata": {},
   "source": [
    "## 4. Perform 3D Reconstruction\n",
    "\n",
    "Now we'll perform the 3D reconstruction using the SIRT algorithm. You can also use FBP by changing the algorithm parameter."
   ]
  },
  {
   "cell_type": "code",
   "execution_count": null,
   "metadata": {},
   "outputs": [],
   "source": [
    "# For demonstration purposes, if no projections are available, create synthetic data\n",
    "if reconstructor.projections is None:\n",
    "    print(\"Creating synthetic projection data for demonstration...\")\n",
    "    # Create a simple phantom\n",
    "    vol_shape = reconstructor.config['volume_size']\n",
    "    phantom = np.zeros(vol_shape)\n",
    "    \n",
    "    # Add some spheres to the phantom\n",
    "    center = np.array(vol_shape) // 2\n",
    "    radius = min(vol_shape) // 4\n",
    "    \n",
    "    x, y, z = np.ogrid[:vol_shape[0], :vol_shape[1], :vol_shape[2]]\n",
    "    dist = np.sqrt((x - center[0])**2 + (y - center[1])**2 + (z - center[2])**2)\n",
    "    phantom[dist <= radius] = 1.0\n",
    "    \n",
    "    # Create a smaller sphere inside\n",
    "    small_radius = radius // 2\n",
    "    small_center = center + np.array([radius//2, 0, 0])\n",
    "    dist = np.sqrt((x - small_center[0])**2 + (y - small_center[1])**2 + (z - small_center[2])**2)\n",
    "    phantom[dist <= small_radius] = 2.0\n",
    "    \n",
    "    # Create projections\n",
    "    import astra\n",
    "    vol_id = astra.data3d.create('-vol', reconstructor.vol_geom, data=phantom)\n",
    "    proj_id = astra.data3d.create('-sino', reconstructor.proj_geom)\n",
    "    \n",
    "    # Create forward projection\n",
    "    cfg = astra.astra_dict('FP3D_CUDA')\n",
    "    cfg['VolumeDataId'] = vol_id\n",
    "    cfg['ProjectionDataId'] = proj_id\n",
    "    fp_id = astra.algorithm.create(cfg)\n",
    "    astra.algorithm.run(fp_id)\n",
    "    \n",
    "    # Get the projections\n",
    "    reconstructor.projections = astra.data3d.get(proj_id)\n",
    "    \n",
    "    # Add some noise\n",
    "    np.random.seed(42)\n",
    "    noise = np.random.normal(0, 0.05, reconstructor.projections.shape)\n",
    "    reconstructor.projections += noise\n",
    "    reconstructor.projections = np.clip(reconstructor.projections, 0, None)\n",
    "    \n",
    "    # Clean up\n",
    "    astra.algorithm.delete(fp_id)\n",
    "    astra.data3d.delete(vol_id)\n",
    "    astra.data3d.delete(proj_id)\n",
    "    \n",
    "    print(f\"Created synthetic projections with shape: {reconstructor.projections.shape}\")"
   ]
  },
  {
   "cell_type": "code",
   "execution_count": null,
   "metadata": {},
   "outputs": [],
   "source": [
    "# Perform reconstruction\n",
    "try:\n",
    "    # SIRT reconstruction\n",
    "    volume_sirt = reconstructor.reconstruct(algorithm='SIRT', iterations=100, gpu_index=0)\n",
    "    print(f\"SIRT reconstruction completed with volume shape: {volume_sirt.shape}\")\n",
    "    \n",
    "    # Save the reconstructed volume (optional)\n",
    "    # reconstructor.save_volume('sirt_reconstruction.npy')\n",
    "except Exception as e:\n",
    "    print(f\"Error during reconstruction: {e}\")"
   ]
  },
  {
   "cell_type": "code",
   "execution_count": null,
   "metadata": {},
   "outputs": [],
   "source": [
    "# FBP reconstruction\n",
    "try:\n",
    "    volume_fbp = reconstructor.reconstruct(algorithm='FBP', gpu_index=0)\n",
    "    print(f\"FBP reconstruction completed with volume shape: {volume_fbp.shape}\")\n",
    "    \n",
    "    # Save the reconstructed volume (optional)\n",
    "    # reconstructor.save_volume('fbp_reconstruction.npy')\n",
    "except Exception as e:\n",
    "    print(f\"Error during reconstruction: {e}\")"
   ]
  },
  {
   "cell_type": "markdown",
   "metadata": {},
   "source": [
    "## 5. Visualize the Results\n",
    "\n",
    "Now we'll visualize the reconstructed volume using various visualization methods."
   ]
  },
  {
   "cell_type": "code",
   "execution_count": null,
   "metadata": {},
   "outputs": [],
   "source": [
    "# Visualize a slice of the volume\n",
    "try:\n",
    "    fig = reconstructor.visualize_slice(axis=2, slice_index=None, figsize=(10, 8), cmap='gray')\n",
    "    plt.show()\n",
    "except Exception as e:\n",
    "    print(f\"Error during slice visualization: {e}\")"
   ]
  },
  {
   "cell_type": "code",
   "execution_count": null,
   "metadata": {},
   "outputs": [],
   "source": [
    "# Visualize orthogonal views\n",
    "try:\n",
    "    fig = reconstructor.create_orthogonal_views(slice_indices=None, figsize=(15, 5), cmap='gray')\n",
    "    plt.show()\n",
    "except Exception as e:\n",
    "    print(f\"Error during orthogonal views visualization: {e}\")"
   ]
  },
  {
   "cell_type": "code",
   "execution_count": null,
   "metadata": {},
   "outputs": [],
   "source": [
    "# Visualize Maximum Intensity Projection (MIP)\n",
    "try:\n",
    "    fig = reconstructor.visualize_mip(axis=2, figsize=(10, 8), cmap='gray')\n",
    "    plt.show()\n",
    "except Exception as e:\n",
    "    print(f\"Error during MIP visualization: {e}\")"
   ]
  },
  {
   "cell_type": "code",
   "execution_count": null,
   "metadata": {},
   "outputs": [],
   "source": [
    "# Install scikit-image if not already installed (needed for 3D visualization)\n",
    "try:\n",
    "    import skimage\n",
    "except ImportError:\n",
    "    !pip install scikit-image"
   ]
  },
  {
   "cell_type": "code",
   "execution_count": null,
   "metadata": {},
   "outputs": [],
   "source": [
    "# 3D Visualization (isosurface)\n",
    "try:\n",
    "    fig = reconstructor.visualize_volume_3d(threshold=0.5, figsize=(12, 10))\n",
    "    plt.show()\n",
    "except Exception as e:\n",
    "    print(f\"Error during 3D visualization: {e}\")"
   ]
  },
  {
   "cell_type": "markdown",
   "metadata": {},
   "source": [
    "## 6. Compare SIRT and FBP Reconstructions\n",
    "\n",
    "Let's compare the results of SIRT and FBP reconstructions."
   ]
  },
  {
   "cell_type": "code",
   "execution_count": null,
   "metadata": {},
   "outputs": [],
   "source": [
    "# Compare SIRT and FBP reconstructions\n",
    "try:\n",
    "    # Save the SIRT volume\n",
    "    sirt_volume = reconstructor.volume.copy()\n",
    "    \n",
    "    # Perform FBP reconstruction if not done already\n",
    "    if 'volume_fbp' not in locals():\n",
    "        volume_fbp = reconstructor.reconstruct(algorithm='FBP', gpu_index=0)\n",
    "    \n",
    "    # Get the FBP volume\n",
    "    fbp_volume = reconstructor.volume.copy()\n",
    "    \n",
    "    # Create a figure to compare slices\n",
    "    fig, axes = plt.subplots(1, 2, figsize=(15, 7))\n",
    "    \n",
    "    # Get the middle slice\n",
    "    slice_index = sirt_volume.shape[2] // 2\n",
    "    \n",
    "    # Display SIRT slice\n",
    "    im0 = axes[0].imshow(sirt_volume[:, :, slice_index], cmap='gray')\n",
    "    axes[0].set_title(f'SIRT Reconstruction (Z={slice_index})')\n",
    "    fig.colorbar(im0, ax=axes[0])\n",
    "    \n",
    "    # Display FBP slice\n",
    "    im1 = axes[1].imshow(fbp_volume[:, :, slice_index], cmap='gray')\n",
    "    axes[1].set_title(f'FBP Reconstruction (Z={slice_index})')\n",
    "    fig.colorbar(im1, ax=axes[1])\n",
    "    \n",
    "    plt.tight_layout()\n",
    "    plt.show()\n",
    "    \n",
    "    # Restore the SIRT volume for further visualization\n",
    "    reconstructor.volume = sirt_volume\n",
    "except Exception as e:\n",
    "    print(f\"Error during comparison: {e}\")"
   ]
  },
  {
   "cell_type": "markdown",
   "metadata": {},
   "source": [
    "## 7. Advanced Usage: Custom Visualization\n",
    "\n",
    "You can also create custom visualizations using the reconstructed volume."
   ]
  },
  {
   "cell_type": "code",
   "execution_count": null,
   "metadata": {},
   "outputs": [],
   "source": [
    "# Custom visualization: Multi-slice view\n",
    "try:\n",
    "    if reconstructor.volume is not None:\n",
    "        # Create a figure with multiple slices\n",
    "        num_slices = 4\n",
    "        fig, axes = plt.subplots(1, num_slices, figsize=(15, 4))\n",
    "        \n",
    "        # Get slice indices\n",
    "        z_size = reconstructor.volume.shape[2]\n",
    "        slice_indices = np.linspace(z_size // 5, 4 * z_size // 5, num_slices, dtype=int)\n",
    "        \n",
    "        # Display slices\n",
    "        for i, slice_idx in enumerate(slice_indices):\n",
    "            im = axes[i].imshow(reconstructor.volume[:, :, slice_idx], cmap='gray')\n",
    "            axes[i].set_title(f'Slice Z={slice_idx}')\n",
    "            fig.colorbar(im, ax=axes[i])\n",
    "        \n",
    "        plt.tight_layout()\n",
    "        plt.show()\n",
    "except Exception as e:\n",
    "    print(f\"Error during custom visualization: {e}\")"
   ]
  },
  {
   "cell_type": "markdown",
   "metadata": {},
   "source": [
    "## 8. Conclusion\n",
    "\n",
    "This notebook demonstrated how to use the `AstraReconstructor` class to perform 3D reconstruction from 2D TIFF images using the ASTRA toolkit. The class provides a convenient interface for loading projection data, performing reconstruction using SIRT and FBP algorithms, and visualizing the results in various ways.\n",
    "\n",
    "To use this with your own data:\n",
    "\n",
    "1. Update the paths to your configuration files and TIFF images\n",
    "2. Adjust the volume size and algorithm parameters as needed\n",
    "3. Run the reconstruction and visualization cells\n",
    "\n",
    "For more advanced usage, you can modify the `AstraReconstructor` class to add additional functionality or customize the existing methods."
   ]
  }
 ],
 "metadata": {
  "kernelspec": {
   "display_name": "Python 3",
   "language": "python",
   "name": "python3"
  },
  "language_info": {
   "codemirror_mode": {
    "name": "ipython",
    "version": 3
   },
   "file_extension": ".py",
   "mimetype": "text/x-python",
   "name": "python",
   "nbconvert_exporter": "python",
   "pygments_lexer": "ipython3",
   "version": "3.11.0"
  }
 },
 "nbformat": 4,
 "nbformat_minor": 4
}
